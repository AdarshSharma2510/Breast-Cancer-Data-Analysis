{
 "cells": [
  {
   "cell_type": "code",
   "execution_count": 10,
   "id": "7b0c8ad9",
   "metadata": {},
   "outputs": [],
   "source": [
    "import pandas as pd\n",
    "import matplotlib.pyplot as plt\n",
    "from sklearn.datasets import load_diabetes\n",
    "from sklearn.model_selection import train_test_split\n",
    "from sklearn.tree import DecisionTreeRegressor\n",
    "import sklearn.metrics as mt"
   ]
  },
  {
   "cell_type": "code",
   "execution_count": 2,
   "id": "5557b906",
   "metadata": {},
   "outputs": [],
   "source": [
    "diabetes = load_diabetes()\n",
    "df = pd.DataFrame(diabetes.data, columns = diabetes.feature_names)"
   ]
  },
  {
   "cell_type": "code",
   "execution_count": 3,
   "id": "b3f4b7de",
   "metadata": {},
   "outputs": [],
   "source": [
    "inputs = diabetes.data\n",
    "target = diabetes.target"
   ]
  },
  {
   "cell_type": "code",
   "execution_count": 32,
   "id": "4388c5f9",
   "metadata": {},
   "outputs": [],
   "source": [
    "x_train, x_test, y_train, y_test = train_test_split(inputs, target, test_size = 0.2, random_state = 42)"
   ]
  },
  {
   "cell_type": "code",
   "execution_count": 33,
   "id": "fb9c2e7c",
   "metadata": {},
   "outputs": [],
   "source": [
    "model = DecisionTreeRegressor(max_depth = 3)\n",
    "model = model.fit(x_train, y_train)"
   ]
  },
  {
   "cell_type": "code",
   "execution_count": 34,
   "id": "89ef730e",
   "metadata": {},
   "outputs": [
    {
     "data": {
      "text/plain": [
       "{'ccp_alpha': 0.0,\n",
       " 'criterion': 'squared_error',\n",
       " 'max_depth': 3,\n",
       " 'max_features': None,\n",
       " 'max_leaf_nodes': None,\n",
       " 'min_impurity_decrease': 0.0,\n",
       " 'min_samples_leaf': 1,\n",
       " 'min_samples_split': 2,\n",
       " 'min_weight_fraction_leaf': 0.0,\n",
       " 'monotonic_cst': None,\n",
       " 'random_state': None,\n",
       " 'splitter': 'best'}"
      ]
     },
     "execution_count": 34,
     "metadata": {},
     "output_type": "execute_result"
    }
   ],
   "source": [
    "model.get_params()"
   ]
  },
  {
   "cell_type": "code",
   "execution_count": 35,
   "id": "7094d438",
   "metadata": {},
   "outputs": [
    {
     "data": {
      "text/plain": [
       "array([159.57407407, 175.8       , 159.57407407, 230.51515152,\n",
       "       109.9223301 , 109.9223301 , 225.75      , 230.51515152,\n",
       "       159.57407407, 175.8       , 109.9223301 , 159.57407407,\n",
       "        80.87755102, 230.51515152, 109.9223301 , 175.8       ,\n",
       "       230.51515152, 225.75      , 175.8       , 175.8       ,\n",
       "       175.8       , 109.9223301 ,  80.87755102, 175.8       ,\n",
       "       175.8       , 175.8       , 175.8       , 109.9223301 ,\n",
       "        80.87755102, 109.9223301 , 225.75      ,  80.87755102,\n",
       "       175.8       , 159.57407407, 175.8       , 225.75      ,\n",
       "       109.9223301 , 159.57407407, 159.57407407,  80.87755102,\n",
       "        80.87755102, 109.9223301 , 109.9223301 , 159.57407407,\n",
       "       159.57407407,  80.87755102,  80.87755102, 109.9223301 ,\n",
       "        80.87755102, 159.57407407, 175.8       ,  80.87755102,\n",
       "       175.8       , 109.9223301 , 256.33333333, 175.8       ,\n",
       "       109.9223301 , 175.8       , 109.9223301 , 109.9223301 ,\n",
       "       175.8       , 175.8       , 175.8       , 109.9223301 ,\n",
       "       159.57407407, 175.8       , 159.57407407, 159.57407407,\n",
       "       109.9223301 , 159.57407407, 159.57407407, 175.8       ,\n",
       "       159.57407407, 109.9223301 ,  80.87755102, 256.33333333,\n",
       "       230.51515152, 175.8       , 175.8       , 256.33333333,\n",
       "        80.87755102, 109.9223301 , 109.9223301 ,  80.87755102,\n",
       "       109.9223301 ,  80.87755102,  80.87755102,  80.87755102,\n",
       "       175.8       ])"
      ]
     },
     "execution_count": 35,
     "metadata": {},
     "output_type": "execute_result"
    }
   ],
   "source": [
    "predict = model.predict(x_test)\n",
    "predict"
   ]
  },
  {
   "cell_type": "code",
   "execution_count": 36,
   "id": "d695295e",
   "metadata": {},
   "outputs": [
    {
     "data": {
      "text/plain": [
       "48.0965923002249"
      ]
     },
     "execution_count": 36,
     "metadata": {},
     "output_type": "execute_result"
    }
   ],
   "source": [
    "mt.mean_absolute_error(y_test, predict)"
   ]
  },
  {
   "cell_type": "code",
   "execution_count": 37,
   "id": "6a1e7b96",
   "metadata": {},
   "outputs": [
    {
     "data": {
      "text/plain": [
       "3552.701313323753"
      ]
     },
     "execution_count": 37,
     "metadata": {},
     "output_type": "execute_result"
    }
   ],
   "source": [
    "mt.mean_squared_error(y_test, predict)  \n"
   ]
  }
 ],
 "metadata": {
  "kernelspec": {
   "display_name": "Python 3",
   "language": "python",
   "name": "python3"
  },
  "language_info": {
   "codemirror_mode": {
    "name": "ipython",
    "version": 3
   },
   "file_extension": ".py",
   "mimetype": "text/x-python",
   "name": "python",
   "nbconvert_exporter": "python",
   "pygments_lexer": "ipython3",
   "version": "3.13.2"
  }
 },
 "nbformat": 4,
 "nbformat_minor": 5
}
